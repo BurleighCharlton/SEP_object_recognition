{
 "cells": [
  {
   "cell_type": "markdown",
   "metadata": {},
   "source": [
    "#  UDF f105w SEPS object detection\n",
    "\n",
    "Here we will use SEP to detect objects in the `hlsp_hudf12_hst_wfc3ir_udfmain_f105w_v1.0_drz.fits` image and perform some basic aperture photometry on it."
   ]
  },
  {
   "cell_type": "markdown",
   "metadata": {},
   "source": [
    "## Install and import relevant libraries"
   ]
  },
  {
   "cell_type": "code",
   "execution_count": null,
   "metadata": {},
   "outputs": [],
   "source": [
    "#Install uncommon libraries if necessary\n",
    "#!pip install astropy\n",
    "#!pip install sep"
   ]
  },
  {
   "cell_type": "code",
   "execution_count": null,
   "metadata": {},
   "outputs": [],
   "source": [
    "import numpy as np\n",
    "import pandas as pd\n",
    "import sep"
   ]
  },
  {
   "cell_type": "code",
   "execution_count": null,
   "metadata": {},
   "outputs": [],
   "source": [
    "# additional setup for reading the test image and displaying plots\n",
    "from astropy.io import fits\n",
    "import matplotlib.pyplot as plt\n",
    "from matplotlib import rcParams\n",
    "%matplotlib inline\n",
    "\n",
    "rcParams['figure.figsize'] = [10., 8.]"
   ]
  },
  {
   "cell_type": "markdown",
   "metadata": {},
   "source": [
    "## Import Data and Preliminary Plot"
   ]
  },
  {
   "cell_type": "markdown",
   "metadata": {},
   "source": [
    "Read in an example image from a FITS file and display it"
   ]
  },
  {
   "cell_type": "code",
   "execution_count": null,
   "metadata": {},
   "outputs": [],
   "source": [
    "%%capture --no-stderr\n",
    "#to stop the warning\n",
    "# read image into standard 2-d numpy array\n",
    "data = fits.open(\"hlsp_hudf12_hst_wfc3ir_udfmain_f105w_v1.0_drz.fits\")[0].data"
   ]
  },
  {
   "cell_type": "code",
   "execution_count": null,
   "metadata": {},
   "outputs": [],
   "source": [
    "#here we need to fix the byte order of the data\n",
    "data = data.byteswap(inplace=True).newbyteorder()"
   ]
  },
  {
   "cell_type": "code",
   "execution_count": null,
   "metadata": {},
   "outputs": [],
   "source": [
    "# show the image\n",
    "m, s = np.mean(data), np.std(data)\n",
    "plt.imshow(data, interpolation='nearest', cmap='gray', vmin=m-s, vmax=m+s, origin='lower')\n",
    "plt.colorbar();\n",
    "plt.savefig('initialimage.png')"
   ]
  },
  {
   "cell_type": "markdown",
   "metadata": {},
   "source": [
    "## Background subtraction\n",
    "\n",
    "This optical/IR data must be background subtracted before sources can be detected."
   ]
  },
  {
   "cell_type": "markdown",
   "metadata": {},
   "source": [
    "### Background estimation"
   ]
  },
  {
   "cell_type": "code",
   "execution_count": null,
   "metadata": {},
   "outputs": [],
   "source": [
    "# measure a spatially varying background on the image\n",
    "bkg = sep.Background(data)"
   ]
  },
  {
   "cell_type": "code",
   "execution_count": null,
   "metadata": {},
   "outputs": [],
   "source": [
    "# get a \"global\" mean and noise of the image background:\n",
    "print(bkg.globalback)\n",
    "print(bkg.globalrms)"
   ]
  },
  {
   "cell_type": "code",
   "execution_count": null,
   "metadata": {},
   "outputs": [],
   "source": [
    "# evaluate background as 2-d array, same size as original image\n",
    "bkg_image = bkg.back()"
   ]
  },
  {
   "cell_type": "code",
   "execution_count": null,
   "metadata": {},
   "outputs": [],
   "source": [
    "# show the background\n",
    "plt.imshow(bkg_image, interpolation='nearest', cmap='gray', origin='lower')\n",
    "plt.colorbar();\n",
    "plt.savefig('bg.png')"
   ]
  },
  {
   "cell_type": "code",
   "execution_count": null,
   "metadata": {},
   "outputs": [],
   "source": [
    "# evaluate the background noise as 2-d array, same size as original image\n",
    "bkg_rms = bkg.rms()"
   ]
  },
  {
   "cell_type": "code",
   "execution_count": null,
   "metadata": {},
   "outputs": [],
   "source": [
    "# show the background noise\n",
    "plt.imshow(bkg_rms, interpolation='nearest', cmap='gray', origin='lower')\n",
    "plt.colorbar();\n",
    "plt.savefig('bgnoise.png')"
   ]
  },
  {
   "cell_type": "markdown",
   "metadata": {},
   "source": [
    "### Background subtraction"
   ]
  },
  {
   "cell_type": "code",
   "execution_count": null,
   "metadata": {},
   "outputs": [],
   "source": [
    "# subtract the background\n",
    "data_sub = data - bkg\n"
   ]
  },
  {
   "cell_type": "markdown",
   "metadata": {},
   "source": [
    "## Object detection\n",
    "\n",
    "With a subtracted background object detection can now be run on the data.\n",
    "Noting a flat background noise level we can set the detection threshold to a constand value of 1.5 $\\sigma$ where $\\sigma$ is the global background RMS."
   ]
  },
  {
   "cell_type": "code",
   "execution_count": null,
   "metadata": {},
   "outputs": [],
   "source": [
    "#place all identified object into an array\n",
    "objects = sep.extract(data_sub, 1.5, err=bkg.globalrms)"
   ]
  },
  {
   "cell_type": "code",
   "execution_count": null,
   "metadata": {},
   "outputs": [],
   "source": [
    "#just to take a look at an object\n",
    "objects[:1]"
   ]
  },
  {
   "cell_type": "code",
   "execution_count": null,
   "metadata": {},
   "outputs": [],
   "source": [
    "# how many objects were detected\n",
    "len(objects)"
   ]
  },
  {
   "cell_type": "markdown",
   "metadata": {},
   "source": [
    "THATS A LOT OF OBJECTS!"
   ]
  },
  {
   "cell_type": "code",
   "execution_count": null,
   "metadata": {},
   "outputs": [],
   "source": [
    "from matplotlib.patches import Ellipse\n",
    "\n",
    "# plot background-subtracted image\n",
    "fig, ax = plt.subplots()\n",
    "m, s = np.mean(data_sub), np.std(data_sub)\n",
    "im = ax.imshow(data_sub, interpolation='nearest', cmap='gray',\n",
    "               vmin=m-s, vmax=m+s, origin='lower')\n",
    "\n",
    "# plot an ellipse for each object\n",
    "for i in range(len(objects)):\n",
    "    e = Ellipse(xy=(objects['x'][i], objects['y'][i]),\n",
    "                width=6*objects['a'][i],\n",
    "                height=6*objects['b'][i],\n",
    "                angle=objects['theta'][i] * 180. / np.pi)\n",
    "    e.set_facecolor('none')\n",
    "    e.set_edgecolor('red')\n",
    "    ax.add_artist(e)\n",
    "\n",
    "plt.savefig('plotwithobjects.png')"
   ]
  },
  {
   "cell_type": "code",
   "execution_count": null,
   "metadata": {
    "scrolled": false
   },
   "outputs": [],
   "source": [
    "# These are the other fields available on the objects\n",
    "objects.dtype.names"
   ]
  },
  {
   "cell_type": "code",
   "execution_count": null,
   "metadata": {},
   "outputs": [],
   "source": [
    "df_fluxes = pd.DataFrame(objects['flux'])\n",
    "df_fluxes.describe()"
   ]
  },
  {
   "cell_type": "code",
   "execution_count": null,
   "metadata": {},
   "outputs": [],
   "source": [
    "df = pd.DataFrame(objects)"
   ]
  },
  {
   "cell_type": "code",
   "execution_count": null,
   "metadata": {},
   "outputs": [],
   "source": [
    "# Here we show the max\n",
    "df['flux'].max()"
   ]
  },
  {
   "cell_type": "code",
   "execution_count": null,
   "metadata": {},
   "outputs": [],
   "source": [
    "#to find the location of the max we use\n",
    "df['flux'].idxmax()"
   ]
  },
  {
   "cell_type": "code",
   "execution_count": null,
   "metadata": {},
   "outputs": [],
   "source": [
    "#The position of the max flux value is at\n",
    "df.iloc[['2059']][['x','y']]"
   ]
  },
  {
   "cell_type": "markdown",
   "metadata": {},
   "source": [
    "We can calculate how far many standard deviations by looking at the z score, $\\frac{x - \\mu}{\\sigma}$"
   ]
  },
  {
   "cell_type": "code",
   "execution_count": null,
   "metadata": {},
   "outputs": [],
   "source": [
    "outlier_zs= (df['flux'].max() - df['flux'].mean())/ df['flux'].std()\n",
    "f\"the greatest outlier is {df['flux'].max().astype(str)} which is {outlier_zs} standard deviation from the mean of {df['flux'].mean().astype(str)}\""
   ]
  },
  {
   "cell_type": "markdown",
   "metadata": {},
   "source": [
    "here is a rather useless histogram"
   ]
  },
  {
   "cell_type": "code",
   "execution_count": null,
   "metadata": {},
   "outputs": [],
   "source": [
    "\n",
    "plt.hist(objects['flux'], bins = 50)\n",
    "plt.xlabel('Fluxes')\n",
    "plt.ylabel('Frequency')\n",
    "plt.title('Initial Flux Histogram')\n",
    "plt.savefig('useless_initiallogjistogram.png')"
   ]
  },
  {
   "cell_type": "markdown",
   "metadata": {},
   "source": [
    "If we instead use a logarithmic binning, we see a far better result."
   ]
  },
  {
   "cell_type": "code",
   "execution_count": null,
   "metadata": {},
   "outputs": [],
   "source": [
    "plt.hist(objects['flux'], bins=np.logspace(np.log10(df['flux'].min()),np.log10(df['flux'].max()),80))\n",
    "plt.gca().set_xscale(\"log\")\n",
    "plt.xlabel('Log Flux')\n",
    "plt.ylabel('Frequency')\n",
    "plt.title('Log Flux Histogram')\n",
    "plt.show()\n",
    "plt.savefig('Logfluxhistogram.png')"
   ]
  },
  {
   "cell_type": "markdown",
   "metadata": {},
   "source": [
    "## Aperture photometry\n",
    "\n",
    "Here we perform simple circular aperture photometry with a 3 pixel radius at the locations of the objects:"
   ]
  },
  {
   "cell_type": "code",
   "execution_count": null,
   "metadata": {},
   "outputs": [],
   "source": [
    "flux, fluxerr, flag = sep.sum_circle(data_sub, objects['x'], objects['y'],\n",
    "                                     3.0, err=bkg.globalrms, gain=1.0)"
   ]
  },
  {
   "cell_type": "markdown",
   "metadata": {},
   "source": [
    "`flux`, `fluxerr` and `flag` are all 1-d arrays with one entry per object."
   ]
  },
  {
   "cell_type": "code",
   "execution_count": null,
   "metadata": {},
   "outputs": [],
   "source": [
    "# show the first 10 objects results:\n",
    "for i in range(10):\n",
    "    print(\"object {:d}: flux = {:f} +/- {:f}\".format(i, flux[i], fluxerr[i]))"
   ]
  },
  {
   "cell_type": "markdown",
   "metadata": {},
   "source": [
    "## RGB Imagimg"
   ]
  },
  {
   "cell_type": "code",
   "execution_count": null,
   "metadata": {},
   "outputs": [],
   "source": [
    "rdata = fits.open(\"hlsp_hudf12_hst_wfc3ir_udfmain_f105w_v1.0_drz.fits\")[0].data\n",
    "gdata = fits.open(\"hlsp_hudf12_hst_wfc3ir_udfmain_f125w_v1.0_drz.fits\")[0].data\n",
    "bdata = fits.open(\"hlsp_hudf12_hst_wfc3ir_udfmain_f160w_v1.0_drz.fits\")[0].data"
   ]
  },
  {
   "cell_type": "code",
   "execution_count": null,
   "metadata": {},
   "outputs": [],
   "source": [
    "def rescale_image (data):\n",
    "    pdata_tmp = data.copy()\n",
    "    m = np.nanmean (pdata_tmp)\n",
    "    vplmin = m/2.\n",
    "    vpmin = np.log10(vplmin)\n",
    "    vpmax= np.log10(m * 100)\n",
    "    pdata_tmp[pdata_tmp<vplmin] = vplmin\n",
    "    pdata_tmp = np.log10(pdata_tmp)\n",
    "    return pdata_tmp, vpmin, vpmax\n",
    "\n",
    "def fits_quicklook (data, fnx=10, fny=10):\n",
    "    f = plt.figure(figsize=(fnx, fny))\n",
    "    pdata_tmp, vpmin, vpmax= rescale_image(data)\n",
    "    plt.imshow (pdata_tmp, vmin=vpmin, vmax=vpmax)"
   ]
  },
  {
   "cell_type": "code",
   "execution_count": null,
   "metadata": {},
   "outputs": [],
   "source": [
    "fits_quicklook(bdata)"
   ]
  },
  {
   "cell_type": "code",
   "execution_count": null,
   "metadata": {},
   "outputs": [],
   "source": [
    "rdata_res, rdatamin, rdatamax = rescale_image(rdata)\n",
    "gdata_res, gdatamin, gdatamax = rescale_image(gdata)\n",
    "bdata_res, bdatamin, bdatamax = rescale_image(bdata)"
   ]
  },
  {
   "cell_type": "code",
   "execution_count": null,
   "metadata": {},
   "outputs": [],
   "source": [
    "rdata_res[rdata_res<rdatamin] = rdatamin\n",
    "rdata_res[rdata_res>rdatamax] = rdatamax\n",
    "gdata_res[gdata_res<gdatamin] = gdatamin\n",
    "gdata_res[gdata_res>gdatamax] = gdatamax\n",
    "bdata_res[bdata_res<bdatamin] = bdatamin\n",
    "bdata_res[bdata_res>bdatamax] = bdatamax"
   ]
  },
  {
   "cell_type": "markdown",
   "metadata": {},
   "source": [
    "## RGB Image generation\n",
    "here I try all possible combinations for what each band should be mapped to for color\n",
    "I ended up likeing the mapping of f105 -> blue, f125 -> green, and f160 -> red, so i used the magic command `%%script false --no-raise-error` to turn off execution of the other image generations as they take about 20s to generate each."
   ]
  },
  {
   "cell_type": "code",
   "execution_count": null,
   "metadata": {},
   "outputs": [],
   "source": [
    "rgb = np.zeros((rdata_res.shape[0], rdata_res.shape[1], 3))\n",
    "rgb[:,:,2] = (rdata_res -rdatamin)/(rdatamax-rdatamin)\n",
    "rgb[:,:,1] = (gdata_res -gdatamin)/(gdatamax-gdatamin)\n",
    "rgb[:,:,0] = (bdata_res -bdatamin)/(bdatamax-bdatamin)"
   ]
  },
  {
   "cell_type": "code",
   "execution_count": null,
   "metadata": {},
   "outputs": [],
   "source": [
    "f, ax = plt.subplots(1,1, figsize =(20,20))\n",
    "ax.axis('off')\n",
    "ax.imshow(rgb)\n",
    "plt.savefig('f105-125-160_rgb_210.png', bbox_inches = 'tight', pad_inches = 0, dpi = 600)\n",
    "#CPU times: user 16.5 s, sys: 2.38 s, total: 18.9 s\n",
    "#Wall time: 18.8 s"
   ]
  },
  {
   "cell_type": "code",
   "execution_count": null,
   "metadata": {},
   "outputs": [],
   "source": [
    "%%script false --no-raise-error\n",
    "rgb = np.zeros((rdata_res.shape[0], rdata_res.shape[1], 3))\n",
    "rgb[:,:,0] = (rdata_res -rdatamin)/(rdatamax-rdatamin)\n",
    "rgb[:,:,1] = (gdata_res -gdatamin)/(gdatamax-gdatamin)\n",
    "rgb[:,:,2] = (bdata_res -bdatamin)/(bdatamax-bdatamin)"
   ]
  },
  {
   "cell_type": "code",
   "execution_count": null,
   "metadata": {},
   "outputs": [],
   "source": [
    "%%script false --no-raise-error\n",
    "f, ax = plt.subplots(1,1, figsize =(20,20))\n",
    "ax.axis('off')\n",
    "ax.imshow(rgb)\n",
    "plt.savefig('f105-125-160_rgb_012.png', bbox_inches = 'tight', pad_inches = 0, dpi = 600)"
   ]
  },
  {
   "cell_type": "code",
   "execution_count": null,
   "metadata": {},
   "outputs": [],
   "source": [
    "%%script false --no-raise-error\n",
    "rgb = np.zeros((rdata_res.shape[0], rdata_res.shape[1], 3))\n",
    "rgb[:,:,0] = (rdata_res -rdatamin)/(rdatamax-rdatamin)\n",
    "rgb[:,:,2] = (gdata_res -gdatamin)/(gdatamax-gdatamin)\n",
    "rgb[:,:,1] = (bdata_res -bdatamin)/(bdatamax-bdatamin)"
   ]
  },
  {
   "cell_type": "code",
   "execution_count": null,
   "metadata": {},
   "outputs": [],
   "source": [
    "%%script false --no-raise-error\n",
    "f, ax = plt.subplots(1,1, figsize =(20,20))\n",
    "ax.axis('off')\n",
    "ax.imshow(rgb)\n",
    "plt.savefig('f105-125-160_rgb_021.png', bbox_inches = 'tight', pad_inches = 0, dpi = 600)"
   ]
  },
  {
   "cell_type": "code",
   "execution_count": null,
   "metadata": {},
   "outputs": [],
   "source": [
    "%%script false --no-raise-error\n",
    "rgb = np.zeros((rdata_res.shape[0], rdata_res.shape[1], 3))\n",
    "rgb[:,:,1] = (rdata_res -rdatamin)/(rdatamax-rdatamin)\n",
    "rgb[:,:,2] = (gdata_res -gdatamin)/(gdatamax-gdatamin)\n",
    "rgb[:,:,0] = (bdata_res -bdatamin)/(bdatamax-bdatamin)"
   ]
  },
  {
   "cell_type": "code",
   "execution_count": null,
   "metadata": {},
   "outputs": [],
   "source": [
    "%%script false --no-raise-error\n",
    "f, ax = plt.subplots(1,1, figsize =(20,20))\n",
    "ax.axis('off')\n",
    "ax.imshow(rgb)\n",
    "plt.savefig('f105-125-160_rgb_120.png', bbox_inches = 'tight', pad_inches = 0, dpi = 600)"
   ]
  },
  {
   "cell_type": "code",
   "execution_count": null,
   "metadata": {},
   "outputs": [],
   "source": [
    "%%script false --no-raise-error\n",
    "rgb = np.zeros((rdata_res.shape[0], rdata_res.shape[1], 3))\n",
    "rgb[:,:,1] = (rdata_res -rdatamin)/(rdatamax-rdatamin)\n",
    "rgb[:,:,0] = (gdata_res -gdatamin)/(gdatamax-gdatamin)\n",
    "rgb[:,:,2] = (bdata_res -bdatamin)/(bdatamax-bdatamin)"
   ]
  },
  {
   "cell_type": "code",
   "execution_count": null,
   "metadata": {},
   "outputs": [],
   "source": [
    "%%script false --no-raise-error\n",
    "f, ax = plt.subplots(1,1, figsize =(20,20))\n",
    "ax.axis('off')\n",
    "ax.imshow(rgb)\n",
    "plt.savefig('f105-125-160_rgb_102.png', bbox_inches = 'tight', pad_inches = 0, dpi = 600)"
   ]
  },
  {
   "cell_type": "code",
   "execution_count": null,
   "metadata": {},
   "outputs": [],
   "source": [
    "%%script false --no-raise-error\n",
    "rgb = np.zeros((rdata_res.shape[0], rdata_res.shape[1], 3))\n",
    "rgb[:,:,2] = (rdata_res -rdatamin)/(rdatamax-rdatamin)\n",
    "rgb[:,:,0] = (gdata_res -gdatamin)/(gdatamax-gdatamin)\n",
    "rgb[:,:,1] = (bdata_res -bdatamin)/(bdatamax-bdatamin)"
   ]
  },
  {
   "cell_type": "code",
   "execution_count": null,
   "metadata": {},
   "outputs": [],
   "source": [
    "%%script false --no-raise-error\n",
    "f, ax = plt.subplots(1,1, figsize =(20,20))\n",
    "ax.axis('off')\n",
    "ax.imshow(rgb)\n",
    "plt.savefig('f105-125-160_rgb_201.png', bbox_inches = 'tight', pad_inches = 0, dpi = 600)"
   ]
  }
 ],
 "metadata": {
  "kernelspec": {
   "display_name": "Python 3 (ipykernel)",
   "language": "python",
   "name": "python3"
  },
  "language_info": {
   "codemirror_mode": {
    "name": "ipython",
    "version": 3
   },
   "file_extension": ".py",
   "mimetype": "text/x-python",
   "name": "python",
   "nbconvert_exporter": "python",
   "pygments_lexer": "ipython3",
   "version": "3.10.4"
  }
 },
 "nbformat": 4,
 "nbformat_minor": 1
}
